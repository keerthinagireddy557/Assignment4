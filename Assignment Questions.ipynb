{
 "cells": [
  {
   "cell_type": "markdown",
   "id": "middle-friendship",
   "metadata": {},
   "source": [
    "# Assignment Questions"
   ]
  },
  {
   "cell_type": "markdown",
   "id": "soviet-excess",
   "metadata": {},
   "source": [
    "# \n",
    "1.Using Numpy to generate an array of 25 random numbers sampled from a standard normal distribution"
   ]
  },
  {
   "cell_type": "code",
   "execution_count": 1,
   "id": "resident-meditation",
   "metadata": {},
   "outputs": [
    {
     "data": {
      "text/plain": [
       "array([0.14635321, 0.81762441, 0.36665479, 0.62012242, 0.87160216,\n",
       "       0.18745179, 0.66596684, 0.3801271 , 0.67631205, 0.5664124 ,\n",
       "       0.83906995, 0.02637833, 0.29422823, 0.00445   , 0.22257828,\n",
       "       0.03707497, 0.28045878, 0.5072496 , 0.34754383, 0.39962844,\n",
       "       0.12556186, 0.07880396, 0.86839177, 0.25092558, 0.94533648])"
      ]
     },
     "execution_count": 1,
     "metadata": {},
     "output_type": "execute_result"
    }
   ],
   "source": [
    "import numpy as np\n",
    "np.random.rand(25)"
   ]
  },
  {
   "cell_type": "code",
   "execution_count": 2,
   "id": "functioning-april",
   "metadata": {},
   "outputs": [
    {
     "data": {
      "text/plain": [
       "array([0.        , 0.05263158, 0.10526316, 0.15789474, 0.21052632,\n",
       "       0.26315789, 0.31578947, 0.36842105, 0.42105263, 0.47368421,\n",
       "       0.52631579, 0.57894737, 0.63157895, 0.68421053, 0.73684211,\n",
       "       0.78947368, 0.84210526, 0.89473684, 0.94736842, 1.        ])"
      ]
     },
     "execution_count": 2,
     "metadata": {},
     "output_type": "execute_result"
    }
   ],
   "source": [
    "np.linspace(0, 1, 20)"
   ]
  },
  {
   "cell_type": "code",
   "execution_count": 3,
   "id": "crude-oxide",
   "metadata": {},
   "outputs": [
    {
     "data": {
      "text/plain": [
       "array([[ 0,  1,  2,  3,  4,  5,  6,  7,  8,  9],\n",
       "       [10, 11, 12, 13, 14, 15, 16, 17, 18, 19],\n",
       "       [20, 21, 22, 23, 24, 25, 26, 27, 28, 29],\n",
       "       [30, 31, 32, 33, 34, 35, 36, 37, 38, 39],\n",
       "       [40, 41, 42, 43, 44, 45, 46, 47, 48, 49],\n",
       "       [50, 51, 52, 53, 54, 55, 56, 57, 58, 59],\n",
       "       [60, 61, 62, 63, 64, 65, 66, 67, 68, 69],\n",
       "       [70, 71, 72, 73, 74, 75, 76, 77, 78, 79],\n",
       "       [80, 81, 82, 83, 84, 85, 86, 87, 88, 89],\n",
       "       [90, 91, 92, 93, 94, 95, 96, 97, 98, 99]])"
      ]
     },
     "execution_count": 3,
     "metadata": {},
     "output_type": "execute_result"
    }
   ],
   "source": [
    "import numpy as np\n",
    "array = np.arange(100).reshape(10,10)\n",
    "array"
   ]
  },
  {
   "cell_type": "code",
   "execution_count": 4,
   "id": "noted-healing",
   "metadata": {},
   "outputs": [
    {
     "name": "stdout",
     "output_type": "stream",
     "text": [
      "[[10 11 12 13 14 15 16 17 18 19]\n",
      " [50 51 52 53 54 55 56 57 58 59]\n",
      " [60 61 62 63 64 65 66 67 68 69]]\n"
     ]
    }
   ],
   "source": [
    "print(array[[1,5,6]])"
   ]
  },
  {
   "cell_type": "code",
   "execution_count": 5,
   "id": "supported-stage",
   "metadata": {},
   "outputs": [
    {
     "name": "stdout",
     "output_type": "stream",
     "text": [
      "[[30 31 32 33 34 35 36 37 38 39]\n",
      " [40 41 42 43 44 45 46 47 48 49]\n",
      " [50 51 52 53 54 55 56 57 58 59]\n",
      " [60 61 62 63 64 65 66 67 68 69]\n",
      " [70 71 72 73 74 75 76 77 78 79]\n",
      " [80 81 82 83 84 85 86 87 88 89]\n",
      " [90 91 92 93 94 95 96 97 98 99]]\n"
     ]
    }
   ],
   "source": [
    "print(array[3:])"
   ]
  },
  {
   "cell_type": "code",
   "execution_count": 6,
   "id": "developing-mounting",
   "metadata": {},
   "outputs": [
    {
     "name": "stdout",
     "output_type": "stream",
     "text": [
      "[[ 3  4  5  6  7]\n",
      " [13 14 15 16 17]\n",
      " [23 24 25 26 27]\n",
      " [33 34 35 36 37]\n",
      " [43 44 45 46 47]\n",
      " [53 54 55 56 57]\n",
      " [63 64 65 66 67]\n",
      " [73 74 75 76 77]\n",
      " [83 84 85 86 87]\n",
      " [93 94 95 96 97]]\n"
     ]
    }
   ],
   "source": [
    "print(array[0:10,3:8])"
   ]
  },
  {
   "cell_type": "code",
   "execution_count": 7,
   "id": "experienced-daughter",
   "metadata": {},
   "outputs": [
    {
     "name": "stdout",
     "output_type": "stream",
     "text": [
      "[[21 22 23 24 25 26 27]\n",
      " [31 32 33 34 35 36 37]\n",
      " [41 42 43 44 45 46 47]]\n"
     ]
    }
   ],
   "source": [
    "print(array[2:5,1:8])"
   ]
  },
  {
   "cell_type": "code",
   "execution_count": 8,
   "id": "duplicate-question",
   "metadata": {},
   "outputs": [
    {
     "data": {
      "text/plain": [
       "array([0.68603017, 0.8448594 , 0.11866477, 0.38102515, 0.03413112,\n",
       "       0.03376649, 0.08353467, 0.33697635, 0.96877755, 0.71187258,\n",
       "       0.65437317, 0.20308365, 0.22675822, 0.60470897, 0.31472737,\n",
       "       0.97746465, 0.32149277, 0.79156515, 0.37580112, 0.81975605,\n",
       "       0.46907303, 0.7984437 , 0.89453028, 0.41878327, 0.49306582,\n",
       "       0.82204846, 0.18709547, 0.4736644 , 0.92266159, 0.5641736 ,\n",
       "       0.02748495, 0.0604342 , 0.39836167, 0.5741493 , 0.76799561,\n",
       "       0.68991165, 0.71127792, 0.12279917, 0.00177982, 0.55279434,\n",
       "       0.92489199, 0.47675864, 0.58345821, 0.1274539 , 0.70149131,\n",
       "       0.73785098, 0.25051528, 0.71651918, 0.80483858, 0.69530371,\n",
       "       0.04578467, 0.72815485, 0.21362319, 0.57331173, 0.64090392,\n",
       "       0.91687186, 0.20342738, 0.13216313, 0.97426078, 0.95694202,\n",
       "       0.46411398, 0.23776943, 0.34605728, 0.04092992, 0.04076682,\n",
       "       0.24516084, 0.0890745 , 0.85799681, 0.64975525, 0.71516149,\n",
       "       0.84219555, 0.25288976, 0.67415405, 0.65523501, 0.23768303,\n",
       "       0.2722213 , 0.291589  , 0.85850785, 0.70288293, 0.82586059,\n",
       "       0.65598131, 0.26450631, 0.68579416, 0.73256751, 0.92135682,\n",
       "       0.34436984, 0.59704836, 0.41838618, 0.66350139, 0.7799882 ,\n",
       "       0.65896875, 0.45329371, 0.14600161, 0.84429107, 0.40334092,\n",
       "       0.77601317, 0.92497984, 0.08351689, 0.78503418, 0.5650665 ])"
      ]
     },
     "execution_count": 8,
     "metadata": {},
     "output_type": "execute_result"
    }
   ],
   "source": [
    "np.random.rand(100)"
   ]
  },
  {
   "cell_type": "code",
   "execution_count": 9,
   "id": "wound-offer",
   "metadata": {},
   "outputs": [
    {
     "data": {
      "text/plain": [
       "4.5"
      ]
     },
     "execution_count": 9,
     "metadata": {},
     "output_type": "execute_result"
    }
   ],
   "source": [
    "a = np.array([[7, 2], [5, 4]])\n",
    "np.mean(a)"
   ]
  },
  {
   "cell_type": "code",
   "execution_count": 10,
   "id": "rapid-warning",
   "metadata": {},
   "outputs": [
    {
     "data": {
      "text/plain": [
       "4.5"
      ]
     },
     "execution_count": 10,
     "metadata": {},
     "output_type": "execute_result"
    }
   ],
   "source": [
    "np.median(a)"
   ]
  },
  {
   "cell_type": "code",
   "execution_count": 11,
   "id": "enormous-cheat",
   "metadata": {},
   "outputs": [
    {
     "data": {
      "text/plain": [
       "1.8027756377319946"
      ]
     },
     "execution_count": 11,
     "metadata": {},
     "output_type": "execute_result"
    }
   ],
   "source": [
    "np.std(a)"
   ]
  },
  {
   "cell_type": "code",
   "execution_count": 12,
   "id": "received-telephone",
   "metadata": {},
   "outputs": [
    {
     "data": {
      "text/plain": [
       "array([[7, 1, 1, 7],\n",
       "       [9, 4, 3, 8],\n",
       "       [6, 1, 9, 7],\n",
       "       [9, 7, 2, 5],\n",
       "       [5, 1, 5, 9]])"
      ]
     },
     "execution_count": 12,
     "metadata": {},
     "output_type": "execute_result"
    }
   ],
   "source": [
    "a = np.array([[7, 1, 1, 7],\n",
    "             [9, 4, 3, 8],\n",
    "             [6, 1, 9, 7],\n",
    "             [9, 7, 2, 5],\n",
    "             [5, 1, 5, 9]])\n",
    "a"
   ]
  },
  {
   "cell_type": "code",
   "execution_count": 13,
   "id": "exterior-cincinnati",
   "metadata": {},
   "outputs": [
    {
     "data": {
      "text/plain": [
       "ModeResult(mode=array([[9, 1, 1, 7]]), count=array([[2, 3, 1, 2]]))"
      ]
     },
     "execution_count": 13,
     "metadata": {},
     "output_type": "execute_result"
    }
   ],
   "source": [
    "from scipy import stats\n",
    "stats.mode(a)"
   ]
  },
  {
   "cell_type": "code",
   "execution_count": null,
   "id": "executed-firmware",
   "metadata": {},
   "outputs": [],
   "source": []
  }
 ],
 "metadata": {
  "kernelspec": {
   "display_name": "Python 3",
   "language": "python",
   "name": "python3"
  },
  "language_info": {
   "codemirror_mode": {
    "name": "ipython",
    "version": 3
   },
   "file_extension": ".py",
   "mimetype": "text/x-python",
   "name": "python",
   "nbconvert_exporter": "python",
   "pygments_lexer": "ipython3",
   "version": "3.9.2"
  }
 },
 "nbformat": 4,
 "nbformat_minor": 5
}
